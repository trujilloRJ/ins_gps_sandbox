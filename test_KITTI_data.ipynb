{
 "cells": [
  {
   "cell_type": "code",
   "execution_count": null,
   "metadata": {},
   "outputs": [],
   "source": [
    "import pandas as pd\n",
    "import numpy as np\n",
    "from imu import IMUNavigator\n",
    "import os\n",
    "from utils import lat_lon_to_ecef_with_height, time_difference"
   ]
  },
  {
   "cell_type": "code",
   "execution_count": null,
   "metadata": {},
   "outputs": [],
   "source": [
    "oxts_data_fields = [\n",
    "    \"lat\", \"lon\", \"alt\",\n",
    "    \"roll\", \"pitch\", \"yaw\",\n",
    "    \"vn\", \"ve\", \"vf\", \"vl\", \"vu\",\n",
    "    \"ax\", \"ay\", \"az\",\n",
    "    \"af\", \"al\", \"au\",\n",
    "    \"wx\", \"wy\", \"wz\",\n",
    "    \"wf\", \"wl\", \"wu\",\n",
    "    \"pos_accuracy\", \"vel_accuracy\",\n",
    "    \"navstat\", \"numsats\",\n",
    "    \"posmode\", \"velmode\", \"orimode\"\n",
    "]\n",
    "timestamps_file = r\"C:\\javier\\personal_projects\\gps_ins_fusion\\data\\oxts\\timestamps.txt\"\n",
    "oxts_folder = r\"C:\\javier\\personal_projects\\gps_ins_fusion\\data\\oxts\\data\"\n",
    "\n",
    "# loading data\n",
    "ts = pd.read_csv(timestamps_file, header=None)\n",
    "\n",
    "data_list = []\n",
    "for file_ in os.listdir(oxts_folder):\n",
    "    if file_.endswith(\".txt\"):\n",
    "        df = pd.read_csv(os.path.join(oxts_folder, file_), header=None, sep=\" \")\n",
    "        data_list.append(df.values.flatten())\n",
    "\n",
    "oxts = pd.DataFrame(data_list)\n",
    "oxts.columns = oxts_data_fields\n",
    "oxts['timestamps'] = ts\n",
    "oxts['x_ecef'], oxts['y_ecef'], oxts['z_ecef'] = lat_lon_to_ecef_with_height(oxts['lat'].values, oxts['lon'].values, oxts['alt'].values)\n",
    "for field_ in ['x_ecef', 'y_ecef', 'z_ecef']:\n",
    "    oxts[field_] = oxts[field_] - oxts[field_][0]\n",
    "\n",
    "n_rows = oxts.shape[0]\n",
    "\n",
    "# initialize IMUNavigator\n",
    "initial_row = oxts.loc[0, :]\n",
    "pos = initial_row[['x_ecef', 'y_ecef', 'z_ecef']].values\n",
    "vel = np.hstack((initial_row[['vn', 've']].values, [0]))\n",
    "imu_nav = IMUNavigator(pos, vel, initial_row['roll'], initial_row['pitch'], initial_row['yaw'])\n",
    "\n",
    "filt_pos = np.zeros((n_rows, 3))\n",
    "time_vec = np.zeros(n_rows)\n",
    "\n",
    "for index, row in oxts.iterrows():\n",
    "    if index > 0:\n",
    "        # compute time difference\n",
    "        dt = time_difference(oxts.loc[index - 1, 'timestamps'], row['timestamps'])\n",
    "\n",
    "        # read IMU measures\n",
    "        acc = row[['af', 'al', 'au']].values\n",
    "        gyro = row[['wf', 'wl', 'wu']].values\n",
    "\n",
    "        imu_nav.step(acc, gyro, dt)\n",
    "        filt_pos[index, :] = imu_nav.pos\n",
    "        time_vec[index] = time_vec[index - 1] + dt"
   ]
  }
 ],
 "metadata": {
  "kernelspec": {
   "display_name": "env_gps_tracking",
   "language": "python",
   "name": "python3"
  },
  "language_info": {
   "codemirror_mode": {
    "name": "ipython",
    "version": 3
   },
   "file_extension": ".py",
   "mimetype": "text/x-python",
   "name": "python",
   "nbconvert_exporter": "python",
   "pygments_lexer": "ipython3",
   "version": "3.12.8"
  }
 },
 "nbformat": 4,
 "nbformat_minor": 2
}
